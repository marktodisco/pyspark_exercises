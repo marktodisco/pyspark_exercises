{
 "cells": [
  {
   "cell_type": "markdown",
   "metadata": {},
   "source": [
    "# Ex2 - Getting and Knowing your Data\n",
    "\n",
    "Check out [Chipotle Exercises Video Tutorial](https://www.youtube.com/watch?v=lpuYZ5EUyS8&list=PLgJhDSE2ZLxaY_DigHeiIDC1cD09rXgJv&index=2) to watch a data scientist go through the exercises"
   ]
  },
  {
   "cell_type": "markdown",
   "metadata": {},
   "source": [
    "This time we are going to pull data directly from the internet.\n",
    "Special thanks to: https://github.com/justmarkham for sharing the dataset and materials.\n",
    "\n",
    "### Step 1. Import the necessary libraries"
   ]
  },
  {
   "cell_type": "code",
   "execution_count": 1,
   "metadata": {
    "collapsed": false
   },
   "outputs": [
    {
     "name": "stderr",
     "output_type": "stream",
     "text": [
      "your 131072x1 screen size is bogus. expect trouble\n",
      "25/03/15 18:20:37 WARN Utils: Your hostname, Mark resolves to a loopback address: 127.0.1.1; using 10.255.255.254 instead (on interface lo)\n",
      "25/03/15 18:20:37 WARN Utils: Set SPARK_LOCAL_IP if you need to bind to another address\n",
      "Setting default log level to \"WARN\".\n",
      "To adjust logging level use sc.setLogLevel(newLevel). For SparkR, use setLogLevel(newLevel).\n",
      "25/03/15 18:20:38 WARN NativeCodeLoader: Unable to load native-hadoop library for your platform... using builtin-java classes where applicable\n"
     ]
    },
    {
     "data": {
      "text/html": [
       "\n",
       "            <div>\n",
       "                <p><b>SparkSession - in-memory</b></p>\n",
       "                \n",
       "        <div>\n",
       "            <p><b>SparkContext</b></p>\n",
       "\n",
       "            <p><a href=\"http://10.255.255.254:4040\">Spark UI</a></p>\n",
       "\n",
       "            <dl>\n",
       "              <dt>Version</dt>\n",
       "                <dd><code>v3.5.5</code></dd>\n",
       "              <dt>Master</dt>\n",
       "                <dd><code>local[*]</code></dd>\n",
       "              <dt>AppName</dt>\n",
       "                <dd><code>pyspark-shell</code></dd>\n",
       "            </dl>\n",
       "        </div>\n",
       "        \n",
       "            </div>\n",
       "        "
      ],
      "text/plain": [
       "<pyspark.sql.session.SparkSession at 0x7f41b71cea50>"
      ]
     },
     "execution_count": 1,
     "metadata": {},
     "output_type": "execute_result"
    }
   ],
   "source": [
    "from pyspark.sql import SparkSession\n",
    "\n",
    "from pyspark import SparkFiles\n",
    "from pyspark.sql import types as T\n",
    "import pyspark.sql.functions as F\n",
    "\n",
    "spark = SparkSession.Builder().getOrCreate()\n",
    "spark"
   ]
  },
  {
   "cell_type": "markdown",
   "metadata": {},
   "source": [
    "### Step 2. Import the dataset from this [address](https://raw.githubusercontent.com/justmarkham/DAT8/master/data/chipotle.tsv). "
   ]
  },
  {
   "cell_type": "markdown",
   "metadata": {},
   "source": [
    "### Step 3. Assign it to a variable called chipo."
   ]
  },
  {
   "cell_type": "code",
   "execution_count": 2,
   "metadata": {},
   "outputs": [],
   "source": [
    "data_path = (\n",
    "    \"https://raw.githubusercontent.com/justmarkham/DAT8/master/data/chipotle.tsv\"\n",
    ")\n",
    "\n",
    "spark.sparkContext.addFile(data_path)"
   ]
  },
  {
   "cell_type": "code",
   "execution_count": 3,
   "metadata": {
    "collapsed": false
   },
   "outputs": [
    {
     "name": "stdout",
     "output_type": "stream",
     "text": [
      "chipo.count() = 4622\n",
      "+--------+--------+--------------------+--------------------+----------+\n",
      "|order_id|quantity|           item_name|  choice_description|item_price|\n",
      "+--------+--------+--------------------+--------------------+----------+\n",
      "|       1|       1|Chips and Fresh T...|                NULL|    $2.39 |\n",
      "|       1|       1|                Izze|        [Clementine]|    $3.39 |\n",
      "|       1|       1|    Nantucket Nectar|             [Apple]|    $3.39 |\n",
      "|       1|       1|Chips and Tomatil...|                NULL|    $2.39 |\n",
      "|       2|       2|        Chicken Bowl|[Tomatillo-Red Ch...|   $16.98 |\n",
      "+--------+--------+--------------------+--------------------+----------+\n",
      "\n"
     ]
    }
   ],
   "source": [
    "chipo = spark.read.csv(\n",
    "    f\"file:///{SparkFiles.get('chipotle.tsv')}\",\n",
    "    inferSchema=True,\n",
    "    header=True,\n",
    "    sep=\"\\t\",\n",
    "    nullValue=\"NULL\",\n",
    "    # schema=T.StructType(\n",
    "    #     [\n",
    "    #         T.StructField(\"order_id\", T.IntegerType()),\n",
    "    #         T.StructField(\"quantity\", T.IntegerType()),\n",
    "    #         T.StructField(\"item_name\", T.StringType()),\n",
    "    #         T.StructField(\"choice_description\", T.ArrayType(T.StringType())),\n",
    "    #         T.StructField(\"item_price\", T.FloatType()),\n",
    "    #     ]\n",
    "    # ),\n",
    ")\n",
    "print(f\"{chipo.count() = }\")\n",
    "chipo.limit(5).show()"
   ]
  },
  {
   "cell_type": "markdown",
   "metadata": {},
   "source": [
    "### Step 4. See the first 10 entries"
   ]
  },
  {
   "cell_type": "code",
   "execution_count": 4,
   "metadata": {
    "collapsed": false,
    "scrolled": false
   },
   "outputs": [
    {
     "name": "stdout",
     "output_type": "stream",
     "text": [
      "+--------+--------+--------------------+--------------------+----------+\n",
      "|order_id|quantity|           item_name|  choice_description|item_price|\n",
      "+--------+--------+--------------------+--------------------+----------+\n",
      "|       1|       1|Chips and Fresh T...|                NULL|    $2.39 |\n",
      "|       1|       1|                Izze|        [Clementine]|    $3.39 |\n",
      "|       1|       1|    Nantucket Nectar|             [Apple]|    $3.39 |\n",
      "|       1|       1|Chips and Tomatil...|                NULL|    $2.39 |\n",
      "|       2|       2|        Chicken Bowl|[Tomatillo-Red Ch...|   $16.98 |\n",
      "|       3|       1|        Chicken Bowl|[Fresh Tomato Sal...|   $10.98 |\n",
      "|       3|       1|       Side of Chips|                NULL|    $1.69 |\n",
      "|       4|       1|       Steak Burrito|[Tomatillo Red Ch...|   $11.75 |\n",
      "|       4|       1|    Steak Soft Tacos|[Tomatillo Green ...|    $9.25 |\n",
      "|       5|       1|       Steak Burrito|[Fresh Tomato Sal...|    $9.25 |\n",
      "+--------+--------+--------------------+--------------------+----------+\n",
      "\n"
     ]
    }
   ],
   "source": [
    "chipo.limit(10).show()"
   ]
  },
  {
   "cell_type": "markdown",
   "metadata": {},
   "source": [
    "### Step 5. What is the number of observations in the dataset?"
   ]
  },
  {
   "cell_type": "code",
   "execution_count": 5,
   "metadata": {
    "collapsed": false
   },
   "outputs": [
    {
     "data": {
      "text/plain": [
       "4622"
      ]
     },
     "execution_count": 5,
     "metadata": {},
     "output_type": "execute_result"
    }
   ],
   "source": [
    "# Solution 1\n",
    "\n",
    "chipo.count()"
   ]
  },
  {
   "cell_type": "code",
   "execution_count": 6,
   "metadata": {
    "collapsed": false
   },
   "outputs": [
    {
     "name": "stderr",
     "output_type": "stream",
     "text": [
      "                                                                                \r"
     ]
    },
    {
     "name": "stdout",
     "output_type": "stream",
     "text": [
      "+------------------+--------+-------------+\n",
      "|             Field|Non-Null|    Data Type|\n",
      "+------------------+--------+-------------+\n",
      "|          order_id|    4622|IntegerType()|\n",
      "|          quantity|    4622|IntegerType()|\n",
      "|         item_name|    4622| StringType()|\n",
      "|choice_description|    3376| StringType()|\n",
      "|        item_price|    4622| StringType()|\n",
      "+------------------+--------+-------------+\n",
      "\n"
     ]
    }
   ],
   "source": [
    "# Solution 2\n",
    "\n",
    "non_null_counts = chipo.agg(\n",
    "    *[F.count_if(F.col(c).isNotNull()).alias(c) for c in chipo.columns]\n",
    ")\n",
    "\n",
    "spark.createDataFrame(\n",
    "    [\n",
    "        (c, non_null_counts.select(c).head(1)[0][c], str(chipo.schema[c].dataType))\n",
    "        for c in chipo.columns\n",
    "    ],\n",
    "    schema=[\"Field\", \"Non-Null\", \"Data Type\"],\n",
    ").show()"
   ]
  },
  {
   "cell_type": "markdown",
   "metadata": {},
   "source": [
    "### Step 6. What is the number of columns in the dataset?"
   ]
  },
  {
   "cell_type": "code",
   "execution_count": 7,
   "metadata": {
    "collapsed": false
   },
   "outputs": [
    {
     "data": {
      "text/plain": [
       "5"
      ]
     },
     "execution_count": 7,
     "metadata": {},
     "output_type": "execute_result"
    }
   ],
   "source": [
    "len(chipo.columns)"
   ]
  },
  {
   "cell_type": "markdown",
   "metadata": {},
   "source": [
    "### Step 7. Print the name of all the columns."
   ]
  },
  {
   "cell_type": "code",
   "execution_count": 8,
   "metadata": {
    "collapsed": false
   },
   "outputs": [
    {
     "data": {
      "text/plain": [
       "['order_id', 'quantity', 'item_name', 'choice_description', 'item_price']"
      ]
     },
     "execution_count": 8,
     "metadata": {},
     "output_type": "execute_result"
    }
   ],
   "source": [
    "chipo.columns"
   ]
  },
  {
   "cell_type": "markdown",
   "metadata": {},
   "source": [
    "### Step 8. How is the dataset indexed?"
   ]
  },
  {
   "cell_type": "code",
   "execution_count": 9,
   "metadata": {
    "collapsed": false
   },
   "outputs": [],
   "source": [
    "# PySpark dataframes do not have indexes"
   ]
  },
  {
   "cell_type": "markdown",
   "metadata": {},
   "source": [
    "### Step 9. Which was the most-ordered item? "
   ]
  },
  {
   "cell_type": "code",
   "execution_count": 10,
   "metadata": {},
   "outputs": [
    {
     "name": "stdout",
     "output_type": "stream",
     "text": [
      "+------------+--------+\n",
      "|item_name   |quantity|\n",
      "+------------+--------+\n",
      "|Chicken Bowl|761     |\n",
      "+------------+--------+\n",
      "\n"
     ]
    }
   ],
   "source": [
    "(\n",
    "    chipo.groupBy(\"item_name\")\n",
    "    .agg(F.sum(\"quantity\").alias(\"quantity\"))\n",
    "    .orderBy(F.desc(\"quantity\"))\n",
    "    .limit(1)\n",
    ").show(truncate=False)"
   ]
  },
  {
   "cell_type": "markdown",
   "metadata": {},
   "source": [
    "### Step 10. For the most-ordered item, how many items were ordered?"
   ]
  },
  {
   "cell_type": "code",
   "execution_count": 11,
   "metadata": {
    "collapsed": false
   },
   "outputs": [],
   "source": [
    "# Already answered above???"
   ]
  },
  {
   "cell_type": "markdown",
   "metadata": {},
   "source": [
    "### Step 11. What was the most ordered item in the choice_description column?"
   ]
  },
  {
   "cell_type": "code",
   "execution_count": 12,
   "metadata": {},
   "outputs": [
    {
     "name": "stdout",
     "output_type": "stream",
     "text": [
      "+--------+--------+----------------------------+------------------+----------+\n",
      "|order_id|quantity|item_name                   |choice_description|item_price|\n",
      "+--------+--------+----------------------------+------------------+----------+\n",
      "|1       |1       |Chips and Fresh Tomato Salsa|NULL              |$2.39     |\n",
      "|1       |1       |Izze                        |[Clementine]      |$3.39     |\n",
      "|1       |1       |Nantucket Nectar            |[Apple]           |$3.39     |\n",
      "+--------+--------+----------------------------+------------------+----------+\n",
      "\n"
     ]
    }
   ],
   "source": [
    "chipo.limit(3).show(truncate=False)"
   ]
  },
  {
   "cell_type": "code",
   "execution_count": 13,
   "metadata": {},
   "outputs": [
    {
     "name": "stdout",
     "output_type": "stream",
     "text": [
      "root\n",
      " |-- order_id: integer (nullable = true)\n",
      " |-- quantity: integer (nullable = true)\n",
      " |-- item_name: string (nullable = true)\n",
      " |-- choice_description: string (nullable = true)\n",
      " |-- item_price: string (nullable = true)\n",
      "\n"
     ]
    }
   ],
   "source": [
    "chipo.printSchema()"
   ]
  },
  {
   "cell_type": "code",
   "execution_count": 14,
   "metadata": {},
   "outputs": [
    {
     "name": "stdout",
     "output_type": "stream",
     "text": [
      "+------------------+-----+\n",
      "|choice_description|count|\n",
      "+------------------+-----+\n",
      "|[Diet Coke]       |134  |\n",
      "+------------------+-----+\n",
      "only showing top 1 row\n",
      "\n"
     ]
    }
   ],
   "source": [
    "(\n",
    "    chipo.groupBy(\"choice_description\")\n",
    "    .agg(F.count(\"choice_description\").alias(\"count\"))\n",
    "    .orderBy(F.desc(\"count\"))\n",
    ").show(1, truncate=False)"
   ]
  },
  {
   "cell_type": "markdown",
   "metadata": {},
   "source": [
    "### Step 12. How many items were orderd in total?"
   ]
  },
  {
   "cell_type": "code",
   "execution_count": 15,
   "metadata": {},
   "outputs": [
    {
     "name": "stdout",
     "output_type": "stream",
     "text": [
      "+--------+--------+--------------------+------------------+----------+\n",
      "|order_id|quantity|           item_name|choice_description|item_price|\n",
      "+--------+--------+--------------------+------------------+----------+\n",
      "|       1|       1|Chips and Fresh T...|              NULL|    $2.39 |\n",
      "|       1|       1|                Izze|      [Clementine]|    $3.39 |\n",
      "|       1|       1|    Nantucket Nectar|           [Apple]|    $3.39 |\n",
      "+--------+--------+--------------------+------------------+----------+\n",
      "\n"
     ]
    }
   ],
   "source": [
    "chipo.limit(3).show()"
   ]
  },
  {
   "cell_type": "code",
   "execution_count": 16,
   "metadata": {},
   "outputs": [
    {
     "name": "stdout",
     "output_type": "stream",
     "text": [
      "+-----------+\n",
      "|total_items|\n",
      "+-----------+\n",
      "|       4972|\n",
      "+-----------+\n",
      "\n"
     ]
    }
   ],
   "source": [
    "chipo.agg(F.sum(\"quantity\").alias(\"total_items\")).show()"
   ]
  },
  {
   "cell_type": "markdown",
   "metadata": {},
   "source": [
    "### Step 13. Turn the item price into a float"
   ]
  },
  {
   "cell_type": "markdown",
   "metadata": {},
   "source": [
    "#### Step 13.a. Check the item price type"
   ]
  },
  {
   "cell_type": "code",
   "execution_count": 17,
   "metadata": {},
   "outputs": [
    {
     "data": {
      "text/plain": [
       "StringType()"
      ]
     },
     "execution_count": 17,
     "metadata": {},
     "output_type": "execute_result"
    }
   ],
   "source": [
    "chipo.schema[\"item_price\"].dataType"
   ]
  },
  {
   "cell_type": "markdown",
   "metadata": {},
   "source": [
    "#### Step 13.b. Create a lambda function and change the type of item price"
   ]
  },
  {
   "cell_type": "code",
   "execution_count": 18,
   "metadata": {
    "collapsed": true
   },
   "outputs": [
    {
     "name": "stdout",
     "output_type": "stream",
     "text": [
      "+--------+--------+--------------------+--------------------+----------+-----+\n",
      "|order_id|quantity|           item_name|  choice_description|item_price|price|\n",
      "+--------+--------+--------------------+--------------------+----------+-----+\n",
      "|       1|       1|Chips and Fresh T...|                NULL|    $2.39 | 2.39|\n",
      "|       1|       1|                Izze|        [Clementine]|    $3.39 | 3.39|\n",
      "|       1|       1|    Nantucket Nectar|             [Apple]|    $3.39 | 3.39|\n",
      "|       1|       1|Chips and Tomatil...|                NULL|    $2.39 | 2.39|\n",
      "|       2|       2|        Chicken Bowl|[Tomatillo-Red Ch...|   $16.98 |16.98|\n",
      "+--------+--------+--------------------+--------------------+----------+-----+\n",
      "only showing top 5 rows\n",
      "\n"
     ]
    }
   ],
   "source": [
    "chipo = chipo.withColumn(\n",
    "    \"price\", F.regexp_extract(\"item_price\", r\"\\$(\\d+\\.\\d+)\", 1).cast(T.FloatType())\n",
    ")\n",
    "chipo.show(5)"
   ]
  },
  {
   "cell_type": "markdown",
   "metadata": {},
   "source": [
    "#### Step 13.c. Check the item price type"
   ]
  },
  {
   "cell_type": "code",
   "execution_count": 19,
   "metadata": {
    "collapsed": false
   },
   "outputs": [
    {
     "data": {
      "text/plain": [
       "StructField('price', FloatType(), True)"
      ]
     },
     "execution_count": 19,
     "metadata": {},
     "output_type": "execute_result"
    }
   ],
   "source": [
    "chipo.schema[\"price\"]"
   ]
  },
  {
   "cell_type": "markdown",
   "metadata": {},
   "source": [
    "### Step 14. How much was the revenue for the period in the dataset?"
   ]
  },
  {
   "cell_type": "code",
   "execution_count": 20,
   "metadata": {},
   "outputs": [
    {
     "name": "stdout",
     "output_type": "stream",
     "text": [
      "+--------+--------+--------------------+------------------+----------+-----+\n",
      "|order_id|quantity|           item_name|choice_description|item_price|price|\n",
      "+--------+--------+--------------------+------------------+----------+-----+\n",
      "|       1|       1|Chips and Fresh T...|              NULL|    $2.39 | 2.39|\n",
      "|       1|       1|                Izze|      [Clementine]|    $3.39 | 3.39|\n",
      "|       1|       1|    Nantucket Nectar|           [Apple]|    $3.39 | 3.39|\n",
      "+--------+--------+--------------------+------------------+----------+-----+\n",
      "only showing top 3 rows\n",
      "\n"
     ]
    }
   ],
   "source": [
    "chipo.show(3)"
   ]
  },
  {
   "cell_type": "code",
   "execution_count": 21,
   "metadata": {},
   "outputs": [
    {
     "name": "stdout",
     "output_type": "stream",
     "text": [
      "+---------+\n",
      "|  revenue|\n",
      "+---------+\n",
      "|$39237.02|\n",
      "+---------+\n",
      "\n"
     ]
    }
   ],
   "source": [
    "chipo.agg(\n",
    "    F.concat(\n",
    "        F.lit(\"$\"),\n",
    "        F.round(F.sum(F.col(\"price\") * F.col(\"quantity\")), 2).cast(\"STRING\"),\n",
    "    ).alias(\"revenue\")\n",
    ").show()"
   ]
  },
  {
   "cell_type": "markdown",
   "metadata": {},
   "source": [
    "### Step 15. How many orders were made in the period?"
   ]
  },
  {
   "cell_type": "code",
   "execution_count": 22,
   "metadata": {
    "collapsed": false
   },
   "outputs": [
    {
     "name": "stdout",
     "output_type": "stream",
     "text": [
      "+--------+--------+--------------------+------------------+----------+-----+\n",
      "|order_id|quantity|           item_name|choice_description|item_price|price|\n",
      "+--------+--------+--------------------+------------------+----------+-----+\n",
      "|       1|       1|Chips and Fresh T...|              NULL|    $2.39 | 2.39|\n",
      "+--------+--------+--------------------+------------------+----------+-----+\n",
      "only showing top 1 row\n",
      "\n",
      "+-------------------+\n",
      "|count_null_order_id|\n",
      "+-------------------+\n",
      "|                  0|\n",
      "+-------------------+\n",
      "\n",
      "+-----------+\n",
      "|order_count|\n",
      "+-----------+\n",
      "|       1834|\n",
      "+-----------+\n",
      "\n"
     ]
    }
   ],
   "source": [
    "chipo.show(1)\n",
    "\n",
    "# There are duplicate orders? Weird.\n",
    "# (\n",
    "#     chipo.groupBy(\"order_id\")\n",
    "#     .agg(F.count(\"order_id\").alias(\"order_count\"))\n",
    "#     .orderBy(F.desc(\"order_count\"))\n",
    "# ).show()\n",
    "\n",
    "chipo.select(F.count_if(F.isnull(\"order_id\")).alias(\"count_null_order_id\")).show()\n",
    "\n",
    "chipo.select(F.count_distinct(\"order_id\").alias(\"order_count\")).show()"
   ]
  },
  {
   "cell_type": "markdown",
   "metadata": {},
   "source": [
    "### Step 16. What is the average revenue amount per order?"
   ]
  },
  {
   "cell_type": "code",
   "execution_count": 23,
   "metadata": {},
   "outputs": [
    {
     "name": "stdout",
     "output_type": "stream",
     "text": [
      "+--------+--------+--------------------+------------------+----------+-----+\n",
      "|order_id|quantity|           item_name|choice_description|item_price|price|\n",
      "+--------+--------+--------------------+------------------+----------+-----+\n",
      "|       1|       1|Chips and Fresh T...|              NULL|    $2.39 | 2.39|\n",
      "+--------+--------+--------------------+------------------+----------+-----+\n",
      "only showing top 1 row\n",
      "\n",
      "+--------------------------------+\n",
      "|round(avg(revenue_per_order), 2)|\n",
      "+--------------------------------+\n",
      "|                           21.39|\n",
      "+--------------------------------+\n",
      "\n"
     ]
    }
   ],
   "source": [
    "chipo.show(1)\n",
    "\n",
    "(\n",
    "    chipo.groupBy(\"order_id\")\n",
    "    .agg(F.sum((F.col(\"quantity\") * F.col(\"price\"))).alias(\"revenue_per_order\"))\n",
    "    .select(F.round(F.avg(\"revenue_per_order\"), 2))\n",
    ").show()"
   ]
  },
  {
   "cell_type": "markdown",
   "metadata": {},
   "source": [
    "### Step 17. How many different items are sold?"
   ]
  },
  {
   "cell_type": "code",
   "execution_count": 25,
   "metadata": {
    "collapsed": false
   },
   "outputs": [
    {
     "name": "stdout",
     "output_type": "stream",
     "text": [
      "+--------+--------+--------------------+------------------+----------+-----+\n",
      "|order_id|quantity|           item_name|choice_description|item_price|price|\n",
      "+--------+--------+--------------------+------------------+----------+-----+\n",
      "|       1|       1|Chips and Fresh T...|              NULL|    $2.39 | 2.39|\n",
      "+--------+--------+--------------------+------------------+----------+-----+\n",
      "only showing top 1 row\n",
      "\n",
      "+----------+\n",
      "|item_count|\n",
      "+----------+\n",
      "|        50|\n",
      "+----------+\n",
      "\n"
     ]
    }
   ],
   "source": [
    "chipo.show(1)\n",
    "\n",
    "chipo.select(F.count_distinct(\"item_name\").alias(\"item_count\")).show()"
   ]
  }
 ],
 "metadata": {
  "anaconda-cloud": {},
  "kernelspec": {
   "display_name": ".venv",
   "language": "python",
   "name": "python3"
  },
  "language_info": {
   "codemirror_mode": {
    "name": "ipython",
    "version": 3
   },
   "file_extension": ".py",
   "mimetype": "text/x-python",
   "name": "python",
   "nbconvert_exporter": "python",
   "pygments_lexer": "ipython3",
   "version": "3.13.1"
  }
 },
 "nbformat": 4,
 "nbformat_minor": 0
}
