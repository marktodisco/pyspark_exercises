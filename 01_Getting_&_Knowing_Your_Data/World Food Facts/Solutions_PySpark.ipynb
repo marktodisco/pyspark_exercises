{
 "cells": [
  {
   "cell_type": "markdown",
   "metadata": {},
   "source": [
    "# Ex1 - Getting and knowing your Data"
   ]
  },
  {
   "cell_type": "code",
   "execution_count": 1,
   "metadata": {},
   "outputs": [
    {
     "name": "stderr",
     "output_type": "stream",
     "text": [
      "your 131072x1 screen size is bogus. expect trouble\n",
      "25/03/16 09:22:22 WARN Utils: Your hostname, Mark resolves to a loopback address: 127.0.1.1; using 10.255.255.254 instead (on interface lo)\n",
      "25/03/16 09:22:22 WARN Utils: Set SPARK_LOCAL_IP if you need to bind to another address\n",
      "Setting default log level to \"WARN\".\n",
      "To adjust logging level use sc.setLogLevel(newLevel). For SparkR, use setLogLevel(newLevel).\n",
      "25/03/16 09:22:23 WARN NativeCodeLoader: Unable to load native-hadoop library for your platform... using builtin-java classes where applicable\n"
     ]
    },
    {
     "data": {
      "text/html": [
       "\n",
       "            <div>\n",
       "                <p><b>SparkSession - in-memory</b></p>\n",
       "                \n",
       "        <div>\n",
       "            <p><b>SparkContext</b></p>\n",
       "\n",
       "            <p><a href=\"http://10.255.255.254:4040\">Spark UI</a></p>\n",
       "\n",
       "            <dl>\n",
       "              <dt>Version</dt>\n",
       "                <dd><code>v3.5.5</code></dd>\n",
       "              <dt>Master</dt>\n",
       "                <dd><code>local[*]</code></dd>\n",
       "              <dt>AppName</dt>\n",
       "                <dd><code>pyspark-shell</code></dd>\n",
       "            </dl>\n",
       "        </div>\n",
       "        \n",
       "            </div>\n",
       "        "
      ],
      "text/plain": [
       "<pyspark.sql.session.SparkSession at 0x7f39b4d5ea50>"
      ]
     },
     "execution_count": 1,
     "metadata": {},
     "output_type": "execute_result"
    }
   ],
   "source": [
    "import pyspark.sql.functions as F\n",
    "from pyspark.sql import SparkSession\n",
    "from pyspark.sql import types as T\n",
    "\n",
    "spark = SparkSession.Builder().getOrCreate()\n",
    "spark"
   ]
  },
  {
   "cell_type": "markdown",
   "metadata": {},
   "source": [
    "### Step 1. Go to https://www.kaggle.com/openfoodfacts/world-food-facts/data"
   ]
  },
  {
   "cell_type": "markdown",
   "metadata": {},
   "source": [
    "###  Step 2. Download the dataset to your computer and unzip it."
   ]
  },
  {
   "cell_type": "code",
   "execution_count": 2,
   "metadata": {
    "collapsed": true
   },
   "outputs": [],
   "source": [
    "# Done in bash\n",
    "data_path = \"./data/en.openfoodfacts.org.products.tsv\""
   ]
  },
  {
   "cell_type": "markdown",
   "metadata": {},
   "source": [
    "### Step 3. Use the tsv file and assign it to a dataframe called food"
   ]
  },
  {
   "cell_type": "code",
   "execution_count": 3,
   "metadata": {},
   "outputs": [
    {
     "name": "stderr",
     "output_type": "stream",
     "text": [
      "                                                                                \r"
     ]
    },
    {
     "name": "stdout",
     "output_type": "stream",
     "text": [
      "root\n",
      " |-- code: double (nullable = true)\n",
      " |-- url: string (nullable = true)\n",
      " |-- creator: string (nullable = true)\n",
      " |-- created_t: string (nullable = true)\n",
      " |-- created_datetime: string (nullable = true)\n",
      " |-- last_modified_t: string (nullable = true)\n",
      " |-- last_modified_datetime: string (nullable = true)\n",
      " |-- product_name: string (nullable = true)\n",
      " |-- generic_name: string (nullable = true)\n",
      " |-- quantity: string (nullable = true)\n",
      " |-- packaging: string (nullable = true)\n",
      " |-- packaging_tags: string (nullable = true)\n",
      " |-- brands: string (nullable = true)\n",
      " |-- brands_tags: string (nullable = true)\n",
      " |-- categories: string (nullable = true)\n",
      " |-- categories_tags: string (nullable = true)\n",
      " |-- categories_en: string (nullable = true)\n",
      " |-- origins: string (nullable = true)\n",
      " |-- origins_tags: string (nullable = true)\n",
      " |-- manufacturing_places: string (nullable = true)\n",
      " |-- manufacturing_places_tags: string (nullable = true)\n",
      " |-- labels: string (nullable = true)\n",
      " |-- labels_tags: string (nullable = true)\n",
      " |-- labels_en: string (nullable = true)\n",
      " |-- emb_codes: string (nullable = true)\n",
      " |-- emb_codes_tags: string (nullable = true)\n",
      " |-- first_packaging_code_geo: string (nullable = true)\n",
      " |-- cities: string (nullable = true)\n",
      " |-- cities_tags: string (nullable = true)\n",
      " |-- purchase_places: string (nullable = true)\n",
      " |-- stores: string (nullable = true)\n",
      " |-- countries: string (nullable = true)\n",
      " |-- countries_tags: string (nullable = true)\n",
      " |-- countries_en: string (nullable = true)\n",
      " |-- ingredients_text: string (nullable = true)\n",
      " |-- allergens: string (nullable = true)\n",
      " |-- allergens_en: string (nullable = true)\n",
      " |-- traces: string (nullable = true)\n",
      " |-- traces_tags: string (nullable = true)\n",
      " |-- traces_en: string (nullable = true)\n",
      " |-- serving_size: string (nullable = true)\n",
      " |-- no_nutriments: string (nullable = true)\n",
      " |-- additives_n: integer (nullable = true)\n",
      " |-- additives: string (nullable = true)\n",
      " |-- additives_tags: string (nullable = true)\n",
      " |-- additives_en: string (nullable = true)\n",
      " |-- ingredients_from_palm_oil_n: integer (nullable = true)\n",
      " |-- ingredients_from_palm_oil: string (nullable = true)\n",
      " |-- ingredients_from_palm_oil_tags: string (nullable = true)\n",
      " |-- ingredients_that_may_be_from_palm_oil_n: integer (nullable = true)\n",
      " |-- ingredients_that_may_be_from_palm_oil: string (nullable = true)\n",
      " |-- ingredients_that_may_be_from_palm_oil_tags: string (nullable = true)\n",
      " |-- nutrition_grade_uk: string (nullable = true)\n",
      " |-- nutrition_grade_fr: string (nullable = true)\n",
      " |-- pnns_groups_1: string (nullable = true)\n",
      " |-- pnns_groups_2: string (nullable = true)\n",
      " |-- states: string (nullable = true)\n",
      " |-- states_tags: string (nullable = true)\n",
      " |-- states_en: string (nullable = true)\n",
      " |-- main_category: string (nullable = true)\n",
      " |-- main_category_en: string (nullable = true)\n",
      " |-- image_url: string (nullable = true)\n",
      " |-- image_small_url: string (nullable = true)\n",
      " |-- energy_100g: double (nullable = true)\n",
      " |-- energy-from-fat_100g: double (nullable = true)\n",
      " |-- fat_100g: double (nullable = true)\n",
      " |-- saturated-fat_100g: double (nullable = true)\n",
      " |-- -butyric-acid_100g: string (nullable = true)\n",
      " |-- -caproic-acid_100g: string (nullable = true)\n",
      " |-- -caprylic-acid_100g: double (nullable = true)\n",
      " |-- -capric-acid_100g: double (nullable = true)\n",
      " |-- -lauric-acid_100g: double (nullable = true)\n",
      " |-- -myristic-acid_100g: double (nullable = true)\n",
      " |-- -palmitic-acid_100g: double (nullable = true)\n",
      " |-- -stearic-acid_100g: integer (nullable = true)\n",
      " |-- -arachidic-acid_100g: double (nullable = true)\n",
      " |-- -behenic-acid_100g: double (nullable = true)\n",
      " |-- -lignoceric-acid_100g: string (nullable = true)\n",
      " |-- -cerotic-acid_100g: string (nullable = true)\n",
      " |-- -montanic-acid_100g: integer (nullable = true)\n",
      " |-- -melissic-acid_100g: string (nullable = true)\n",
      " |-- monounsaturated-fat_100g: double (nullable = true)\n",
      " |-- polyunsaturated-fat_100g: double (nullable = true)\n",
      " |-- omega-3-fat_100g: double (nullable = true)\n",
      " |-- -alpha-linolenic-acid_100g: double (nullable = true)\n",
      " |-- -eicosapentaenoic-acid_100g: double (nullable = true)\n",
      " |-- -docosahexaenoic-acid_100g: double (nullable = true)\n",
      " |-- omega-6-fat_100g: double (nullable = true)\n",
      " |-- -linoleic-acid_100g: double (nullable = true)\n",
      " |-- -arachidonic-acid_100g: double (nullable = true)\n",
      " |-- -gamma-linolenic-acid_100g: double (nullable = true)\n",
      " |-- -dihomo-gamma-linolenic-acid_100g: double (nullable = true)\n",
      " |-- omega-9-fat_100g: double (nullable = true)\n",
      " |-- -oleic-acid_100g: double (nullable = true)\n",
      " |-- -elaidic-acid_100g: string (nullable = true)\n",
      " |-- -gondoic-acid_100g: double (nullable = true)\n",
      " |-- -mead-acid_100g: string (nullable = true)\n",
      " |-- -erucic-acid_100g: string (nullable = true)\n",
      " |-- -nervonic-acid_100g: string (nullable = true)\n",
      " |-- trans-fat_100g: double (nullable = true)\n",
      " |-- cholesterol_100g: double (nullable = true)\n",
      " |-- carbohydrates_100g: double (nullable = true)\n",
      " |-- sugars_100g: double (nullable = true)\n",
      " |-- -sucrose_100g: double (nullable = true)\n",
      " |-- -glucose_100g: double (nullable = true)\n",
      " |-- -fructose_100g: double (nullable = true)\n",
      " |-- -lactose_100g: double (nullable = true)\n",
      " |-- -maltose_100g: double (nullable = true)\n",
      " |-- -maltodextrins_100g: double (nullable = true)\n",
      " |-- starch_100g: double (nullable = true)\n",
      " |-- polyols_100g: double (nullable = true)\n",
      " |-- fiber_100g: double (nullable = true)\n",
      " |-- proteins_100g: double (nullable = true)\n",
      " |-- casein_100g: double (nullable = true)\n",
      " |-- serum-proteins_100g: double (nullable = true)\n",
      " |-- nucleotides_100g: double (nullable = true)\n",
      " |-- salt_100g: double (nullable = true)\n",
      " |-- sodium_100g: double (nullable = true)\n",
      " |-- alcohol_100g: double (nullable = true)\n",
      " |-- vitamin-a_100g: double (nullable = true)\n",
      " |-- beta-carotene_100g: double (nullable = true)\n",
      " |-- vitamin-d_100g: double (nullable = true)\n",
      " |-- vitamin-e_100g: double (nullable = true)\n",
      " |-- vitamin-k_100g: double (nullable = true)\n",
      " |-- vitamin-c_100g: double (nullable = true)\n",
      " |-- vitamin-b1_100g: double (nullable = true)\n",
      " |-- vitamin-b2_100g: double (nullable = true)\n",
      " |-- vitamin-pp_100g: double (nullable = true)\n",
      " |-- vitamin-b6_100g: double (nullable = true)\n",
      " |-- vitamin-b9_100g: double (nullable = true)\n",
      " |-- folates_100g: double (nullable = true)\n",
      " |-- vitamin-b12_100g: double (nullable = true)\n",
      " |-- biotin_100g: double (nullable = true)\n",
      " |-- pantothenic-acid_100g: double (nullable = true)\n",
      " |-- silica_100g: double (nullable = true)\n",
      " |-- bicarbonate_100g: double (nullable = true)\n",
      " |-- potassium_100g: double (nullable = true)\n",
      " |-- chloride_100g: double (nullable = true)\n",
      " |-- calcium_100g: double (nullable = true)\n",
      " |-- phosphorus_100g: double (nullable = true)\n",
      " |-- iron_100g: double (nullable = true)\n",
      " |-- magnesium_100g: double (nullable = true)\n",
      " |-- zinc_100g: double (nullable = true)\n",
      " |-- copper_100g: double (nullable = true)\n",
      " |-- manganese_100g: double (nullable = true)\n",
      " |-- fluoride_100g: double (nullable = true)\n",
      " |-- selenium_100g: double (nullable = true)\n",
      " |-- chromium_100g: double (nullable = true)\n",
      " |-- molybdenum_100g: double (nullable = true)\n",
      " |-- iodine_100g: double (nullable = true)\n",
      " |-- caffeine_100g: double (nullable = true)\n",
      " |-- taurine_100g: double (nullable = true)\n",
      " |-- ph_100g: double (nullable = true)\n",
      " |-- fruits-vegetables-nuts_100g: double (nullable = true)\n",
      " |-- fruits-vegetables-nuts-estimate_100g: double (nullable = true)\n",
      " |-- collagen-meat-protein-ratio_100g: integer (nullable = true)\n",
      " |-- cocoa_100g: double (nullable = true)\n",
      " |-- chlorophyl_100g: string (nullable = true)\n",
      " |-- carbon-footprint_100g: double (nullable = true)\n",
      " |-- nutrition-score-fr_100g: integer (nullable = true)\n",
      " |-- nutrition-score-uk_100g: integer (nullable = true)\n",
      " |-- glycemic-index_100g: string (nullable = true)\n",
      " |-- water-hardness_100g: string (nullable = true)\n",
      "\n"
     ]
    }
   ],
   "source": [
    "food = spark.read.csv(data_path, header=True, inferSchema=True, sep=\"\\t\")\n",
    "food.printSchema()"
   ]
  },
  {
   "cell_type": "markdown",
   "metadata": {},
   "source": [
    "### Step 4. See the first 5 entries"
   ]
  },
  {
   "cell_type": "code",
   "execution_count": 4,
   "metadata": {},
   "outputs": [
    {
     "name": "stderr",
     "output_type": "stream",
     "text": [
      "25/03/16 09:22:35 WARN SparkStringUtils: Truncated the string representation of a plan since it was too large. This behavior can be adjusted by setting 'spark.sql.debug.maxToStringFields'.\n"
     ]
    },
    {
     "name": "stdout",
     "output_type": "stream",
     "text": [
      "+-------+--------------------+--------------------+----------+--------------------+---------------+----------------------+--------------------+------------+--------+---------+--------------+---------------+---------------+----------+---------------+-------------+-------+------------+--------------------+-------------------------+------+-----------+---------+---------+--------------+------------------------+------+-----------+---------------+------+---------+----------------+-------------+--------------------+---------+------------+------+-----------+---------+---------------+-------------+-----------+--------------------+--------------+------------+---------------------------+-------------------------+------------------------------+---------------------------------------+-------------------------------------+------------------------------------------+------------------+------------------+-------------+-------------+--------------------+--------------------+--------------------+-------------+----------------+---------+---------------+-----------+--------------------+--------+------------------+------------------+------------------+-------------------+-----------------+-----------------+-------------------+-------------------+------------------+--------------------+------------------+---------------------+------------------+-------------------+-------------------+------------------------+------------------------+----------------+--------------------------+---------------------------+--------------------------+----------------+-------------------+----------------------+--------------------------+---------------------------------+----------------+----------------+------------------+------------------+---------------+-----------------+-------------------+--------------+----------------+------------------+-----------+-------------+-------------+--------------+-------------+-------------+-------------------+-----------+------------+----------+-------------+-----------+-------------------+----------------+---------+-----------+------------+--------------+------------------+--------------+--------------+--------------+--------------+---------------+---------------+---------------+---------------+---------------+------------+----------------+-----------+---------------------+-----------+----------------+--------------+-------------+------------+---------------+---------+--------------+---------+-----------+--------------+-------------+-------------+-------------+---------------+-----------+-------------+------------+-------+---------------------------+------------------------------------+--------------------------------+----------+---------------+---------------------+-----------------------+-----------------------+-------------------+-------------------+\n",
      "|   code|                 url|             creator| created_t|    created_datetime|last_modified_t|last_modified_datetime|        product_name|generic_name|quantity|packaging|packaging_tags|         brands|    brands_tags|categories|categories_tags|categories_en|origins|origins_tags|manufacturing_places|manufacturing_places_tags|labels|labels_tags|labels_en|emb_codes|emb_codes_tags|first_packaging_code_geo|cities|cities_tags|purchase_places|stores|countries|  countries_tags| countries_en|    ingredients_text|allergens|allergens_en|traces|traces_tags|traces_en|   serving_size|no_nutriments|additives_n|           additives|additives_tags|additives_en|ingredients_from_palm_oil_n|ingredients_from_palm_oil|ingredients_from_palm_oil_tags|ingredients_that_may_be_from_palm_oil_n|ingredients_that_may_be_from_palm_oil|ingredients_that_may_be_from_palm_oil_tags|nutrition_grade_uk|nutrition_grade_fr|pnns_groups_1|pnns_groups_2|              states|         states_tags|           states_en|main_category|main_category_en|image_url|image_small_url|energy_100g|energy-from-fat_100g|fat_100g|saturated-fat_100g|-butyric-acid_100g|-caproic-acid_100g|-caprylic-acid_100g|-capric-acid_100g|-lauric-acid_100g|-myristic-acid_100g|-palmitic-acid_100g|-stearic-acid_100g|-arachidic-acid_100g|-behenic-acid_100g|-lignoceric-acid_100g|-cerotic-acid_100g|-montanic-acid_100g|-melissic-acid_100g|monounsaturated-fat_100g|polyunsaturated-fat_100g|omega-3-fat_100g|-alpha-linolenic-acid_100g|-eicosapentaenoic-acid_100g|-docosahexaenoic-acid_100g|omega-6-fat_100g|-linoleic-acid_100g|-arachidonic-acid_100g|-gamma-linolenic-acid_100g|-dihomo-gamma-linolenic-acid_100g|omega-9-fat_100g|-oleic-acid_100g|-elaidic-acid_100g|-gondoic-acid_100g|-mead-acid_100g|-erucic-acid_100g|-nervonic-acid_100g|trans-fat_100g|cholesterol_100g|carbohydrates_100g|sugars_100g|-sucrose_100g|-glucose_100g|-fructose_100g|-lactose_100g|-maltose_100g|-maltodextrins_100g|starch_100g|polyols_100g|fiber_100g|proteins_100g|casein_100g|serum-proteins_100g|nucleotides_100g|salt_100g|sodium_100g|alcohol_100g|vitamin-a_100g|beta-carotene_100g|vitamin-d_100g|vitamin-e_100g|vitamin-k_100g|vitamin-c_100g|vitamin-b1_100g|vitamin-b2_100g|vitamin-pp_100g|vitamin-b6_100g|vitamin-b9_100g|folates_100g|vitamin-b12_100g|biotin_100g|pantothenic-acid_100g|silica_100g|bicarbonate_100g|potassium_100g|chloride_100g|calcium_100g|phosphorus_100g|iron_100g|magnesium_100g|zinc_100g|copper_100g|manganese_100g|fluoride_100g|selenium_100g|chromium_100g|molybdenum_100g|iodine_100g|caffeine_100g|taurine_100g|ph_100g|fruits-vegetables-nuts_100g|fruits-vegetables-nuts-estimate_100g|collagen-meat-protein-ratio_100g|cocoa_100g|chlorophyl_100g|carbon-footprint_100g|nutrition-score-fr_100g|nutrition-score-uk_100g|glycemic-index_100g|water-hardness_100g|\n",
      "+-------+--------------------+--------------------+----------+--------------------+---------------+----------------------+--------------------+------------+--------+---------+--------------+---------------+---------------+----------+---------------+-------------+-------+------------+--------------------+-------------------------+------+-----------+---------+---------+--------------+------------------------+------+-----------+---------------+------+---------+----------------+-------------+--------------------+---------+------------+------+-----------+---------+---------------+-------------+-----------+--------------------+--------------+------------+---------------------------+-------------------------+------------------------------+---------------------------------------+-------------------------------------+------------------------------------------+------------------+------------------+-------------+-------------+--------------------+--------------------+--------------------+-------------+----------------+---------+---------------+-----------+--------------------+--------+------------------+------------------+------------------+-------------------+-----------------+-----------------+-------------------+-------------------+------------------+--------------------+------------------+---------------------+------------------+-------------------+-------------------+------------------------+------------------------+----------------+--------------------------+---------------------------+--------------------------+----------------+-------------------+----------------------+--------------------------+---------------------------------+----------------+----------------+------------------+------------------+---------------+-----------------+-------------------+--------------+----------------+------------------+-----------+-------------+-------------+--------------+-------------+-------------+-------------------+-----------+------------+----------+-------------+-----------+-------------------+----------------+---------+-----------+------------+--------------+------------------+--------------+--------------+--------------+--------------+---------------+---------------+---------------+---------------+---------------+------------+----------------+-----------+---------------------+-----------+----------------+--------------+-------------+------------+---------------+---------+--------------+---------+-----------+--------------+-------------+-------------+-------------+---------------+-----------+-------------+------------+-------+---------------------------+------------------------------------+--------------------------------+----------+---------------+---------------------+-----------------------+-----------------------+-------------------+-------------------+\n",
      "| 3087.0|http://world-en.o...|openfoodfacts-con...|1474103866|2016-09-17T09:17:46Z|     1474103893|  2016-09-17T09:18:13Z|  Farine de blé noir|        NULL|     1kg|     NULL|          NULL|Ferme t'y R'nao|ferme-t-y-r-nao|      NULL|           NULL|         NULL|   NULL|        NULL|                NULL|                     NULL|  NULL|       NULL|     NULL|     NULL|          NULL|                    NULL|  NULL|       NULL|           NULL|  NULL|    en:FR|       en:france|       France|                NULL|     NULL|        NULL|  NULL|       NULL|     NULL|           NULL|         NULL|       NULL|                NULL|          NULL|        NULL|                       NULL|                     NULL|                          NULL|                                   NULL|                                 NULL|                                      NULL|              NULL|              NULL|         NULL|         NULL|en:to-be-complete...|en:to-be-complete...|To be completed,N...|         NULL|            NULL|     NULL|           NULL|       NULL|                NULL|    NULL|              NULL|              NULL|              NULL|               NULL|             NULL|             NULL|               NULL|               NULL|              NULL|                NULL|              NULL|                 NULL|              NULL|               NULL|               NULL|                    NULL|                    NULL|            NULL|                      NULL|                       NULL|                      NULL|            NULL|               NULL|                  NULL|                      NULL|                             NULL|            NULL|            NULL|              NULL|              NULL|           NULL|             NULL|               NULL|          NULL|            NULL|              NULL|       NULL|         NULL|         NULL|          NULL|         NULL|         NULL|               NULL|       NULL|        NULL|      NULL|         NULL|       NULL|               NULL|            NULL|     NULL|       NULL|        NULL|          NULL|              NULL|          NULL|          NULL|          NULL|          NULL|           NULL|           NULL|           NULL|           NULL|           NULL|        NULL|            NULL|       NULL|                 NULL|       NULL|            NULL|          NULL|         NULL|        NULL|           NULL|     NULL|          NULL|     NULL|       NULL|          NULL|         NULL|         NULL|         NULL|           NULL|       NULL|         NULL|        NULL|   NULL|                       NULL|                                NULL|                            NULL|      NULL|           NULL|                 NULL|                   NULL|                   NULL|               NULL|               NULL|\n",
      "| 4530.0|http://world-en.o...|     usda-ndb-import|1489069957|2017-03-09T14:32:37Z|     1489069957|  2017-03-09T14:32:37Z|Banana Chips Swee...|        NULL|    NULL|     NULL|          NULL|           NULL|           NULL|      NULL|           NULL|         NULL|   NULL|        NULL|                NULL|                     NULL|  NULL|       NULL|     NULL|     NULL|          NULL|                    NULL|  NULL|       NULL|           NULL|  NULL|       US|en:united-states|United States|Bananas, vegetabl...|     NULL|        NULL|  NULL|       NULL|     NULL|   28 g (1 ONZ)|         NULL|          0| [ bananas -> en:...|          NULL|        NULL|                          0|                     NULL|                          NULL|                                      0|                                 NULL|                                      NULL|              NULL|                 d|         NULL|         NULL|en:to-be-complete...|en:to-be-complete...|To be completed,N...|         NULL|            NULL|     NULL|           NULL|     2243.0|                NULL|   28.57|             28.57|              NULL|              NULL|               NULL|             NULL|             NULL|               NULL|               NULL|              NULL|                NULL|              NULL|                 NULL|              NULL|               NULL|               NULL|                    NULL|                    NULL|            NULL|                      NULL|                       NULL|                      NULL|            NULL|               NULL|                  NULL|                      NULL|                             NULL|            NULL|            NULL|              NULL|              NULL|           NULL|             NULL|               NULL|           0.0|           0.018|             64.29|      14.29|         NULL|         NULL|          NULL|         NULL|         NULL|               NULL|       NULL|        NULL|       3.6|         3.57|       NULL|               NULL|            NULL|      0.0|        0.0|        NULL|           0.0|              NULL|          NULL|          NULL|          NULL|        0.0214|           NULL|           NULL|           NULL|           NULL|           NULL|        NULL|            NULL|       NULL|                 NULL|       NULL|            NULL|          NULL|         NULL|         0.0|           NULL|  0.00129|          NULL|     NULL|       NULL|          NULL|         NULL|         NULL|         NULL|           NULL|       NULL|         NULL|        NULL|   NULL|                       NULL|                                NULL|                            NULL|      NULL|           NULL|                 NULL|                     14|                     14|               NULL|               NULL|\n",
      "| 4559.0|http://world-en.o...|     usda-ndb-import|1489069957|2017-03-09T14:32:37Z|     1489069957|  2017-03-09T14:32:37Z|             Peanuts|        NULL|    NULL|     NULL|          NULL| Torn & Glasser|   torn-glasser|      NULL|           NULL|         NULL|   NULL|        NULL|                NULL|                     NULL|  NULL|       NULL|     NULL|     NULL|          NULL|                    NULL|  NULL|       NULL|           NULL|  NULL|       US|en:united-states|United States|Peanuts, wheat fl...|     NULL|        NULL|  NULL|       NULL|     NULL|28 g (0.25 cup)|         NULL|          0| [ peanuts -> en:...|          NULL|        NULL|                          0|                     NULL|                          NULL|                                      0|                                 NULL|                                      NULL|              NULL|                 b|         NULL|         NULL|en:to-be-complete...|en:to-be-complete...|To be completed,N...|         NULL|            NULL|     NULL|           NULL|     1941.0|                NULL|   17.86|               0.0|              NULL|              NULL|               NULL|             NULL|             NULL|               NULL|               NULL|              NULL|                NULL|              NULL|                 NULL|              NULL|               NULL|               NULL|                    NULL|                    NULL|            NULL|                      NULL|                       NULL|                      NULL|            NULL|               NULL|                  NULL|                      NULL|                             NULL|            NULL|            NULL|              NULL|              NULL|           NULL|             NULL|               NULL|           0.0|             0.0|             60.71|      17.86|         NULL|         NULL|          NULL|         NULL|         NULL|               NULL|       NULL|        NULL|       7.1|        17.86|       NULL|               NULL|            NULL|    0.635|       0.25|        NULL|           0.0|              NULL|          NULL|          NULL|          NULL|           0.0|           NULL|           NULL|           NULL|           NULL|           NULL|        NULL|            NULL|       NULL|                 NULL|       NULL|            NULL|          NULL|         NULL|       0.071|           NULL|  0.00129|          NULL|     NULL|       NULL|          NULL|         NULL|         NULL|         NULL|           NULL|       NULL|         NULL|        NULL|   NULL|                       NULL|                                NULL|                            NULL|      NULL|           NULL|                 NULL|                      0|                      0|               NULL|               NULL|\n",
      "|16087.0|http://world-en.o...|     usda-ndb-import|1489055731|2017-03-09T10:35:31Z|     1489055731|  2017-03-09T10:35:31Z|Organic Salted Nu...|        NULL|    NULL|     NULL|          NULL|      Grizzlies|      grizzlies|      NULL|           NULL|         NULL|   NULL|        NULL|                NULL|                     NULL|  NULL|       NULL|     NULL|     NULL|          NULL|                    NULL|  NULL|       NULL|           NULL|  NULL|       US|en:united-states|United States|Organic hazelnuts...|     NULL|        NULL|  NULL|       NULL|     NULL|28 g (0.25 cup)|         NULL|          0| [ organic-hazeln...|          NULL|        NULL|                          0|                     NULL|                          NULL|                                      0|                                 NULL|                                      NULL|              NULL|                 d|         NULL|         NULL|en:to-be-complete...|en:to-be-complete...|To be completed,N...|         NULL|            NULL|     NULL|           NULL|     2540.0|                NULL|   57.14|              5.36|              NULL|              NULL|               NULL|             NULL|             NULL|               NULL|               NULL|              NULL|                NULL|              NULL|                 NULL|              NULL|               NULL|               NULL|                    NULL|                    NULL|            NULL|                      NULL|                       NULL|                      NULL|            NULL|               NULL|                  NULL|                      NULL|                             NULL|            NULL|            NULL|              NULL|              NULL|           NULL|             NULL|               NULL|          NULL|            NULL|             17.86|       3.57|         NULL|         NULL|          NULL|         NULL|         NULL|               NULL|       NULL|        NULL|       7.1|        17.86|       NULL|               NULL|            NULL|  1.22428|      0.482|        NULL|          NULL|              NULL|          NULL|          NULL|          NULL|          NULL|           NULL|           NULL|           NULL|           NULL|           NULL|        NULL|            NULL|       NULL|                 NULL|       NULL|            NULL|          NULL|         NULL|       0.143|           NULL|  0.00514|          NULL|     NULL|       NULL|          NULL|         NULL|         NULL|         NULL|           NULL|       NULL|         NULL|        NULL|   NULL|                       NULL|                                NULL|                            NULL|      NULL|           NULL|                 NULL|                     12|                     12|               NULL|               NULL|\n",
      "|16094.0|http://world-en.o...|     usda-ndb-import|1489055653|2017-03-09T10:34:13Z|     1489055653|  2017-03-09T10:34:13Z|     Organic Polenta|        NULL|    NULL|     NULL|          NULL| Bob's Red Mill| bob-s-red-mill|      NULL|           NULL|         NULL|   NULL|        NULL|                NULL|                     NULL|  NULL|       NULL|     NULL|     NULL|          NULL|                    NULL|  NULL|       NULL|           NULL|  NULL|       US|en:united-states|United States|     Organic polenta|     NULL|        NULL|  NULL|       NULL|     NULL|35 g (0.25 cup)|         NULL|          0| [ organic-polent...|          NULL|        NULL|                          0|                     NULL|                          NULL|                                      0|                                 NULL|                                      NULL|              NULL|              NULL|         NULL|         NULL|en:to-be-complete...|en:to-be-complete...|To be completed,N...|         NULL|            NULL|     NULL|           NULL|     1552.0|                NULL|    1.43|              NULL|              NULL|              NULL|               NULL|             NULL|             NULL|               NULL|               NULL|              NULL|                NULL|              NULL|                 NULL|              NULL|               NULL|               NULL|                    NULL|                    NULL|            NULL|                      NULL|                       NULL|                      NULL|            NULL|               NULL|                  NULL|                      NULL|                             NULL|            NULL|            NULL|              NULL|              NULL|           NULL|             NULL|               NULL|          NULL|            NULL|             77.14|       NULL|         NULL|         NULL|          NULL|         NULL|         NULL|               NULL|       NULL|        NULL|       5.7|         8.57|       NULL|               NULL|            NULL|     NULL|       NULL|        NULL|          NULL|              NULL|          NULL|          NULL|          NULL|          NULL|           NULL|           NULL|           NULL|           NULL|           NULL|        NULL|            NULL|       NULL|                 NULL|       NULL|            NULL|          NULL|         NULL|        NULL|           NULL|     NULL|          NULL|     NULL|       NULL|          NULL|         NULL|         NULL|         NULL|           NULL|       NULL|         NULL|        NULL|   NULL|                       NULL|                                NULL|                            NULL|      NULL|           NULL|                 NULL|                   NULL|                   NULL|               NULL|               NULL|\n",
      "+-------+--------------------+--------------------+----------+--------------------+---------------+----------------------+--------------------+------------+--------+---------+--------------+---------------+---------------+----------+---------------+-------------+-------+------------+--------------------+-------------------------+------+-----------+---------+---------+--------------+------------------------+------+-----------+---------------+------+---------+----------------+-------------+--------------------+---------+------------+------+-----------+---------+---------------+-------------+-----------+--------------------+--------------+------------+---------------------------+-------------------------+------------------------------+---------------------------------------+-------------------------------------+------------------------------------------+------------------+------------------+-------------+-------------+--------------------+--------------------+--------------------+-------------+----------------+---------+---------------+-----------+--------------------+--------+------------------+------------------+------------------+-------------------+-----------------+-----------------+-------------------+-------------------+------------------+--------------------+------------------+---------------------+------------------+-------------------+-------------------+------------------------+------------------------+----------------+--------------------------+---------------------------+--------------------------+----------------+-------------------+----------------------+--------------------------+---------------------------------+----------------+----------------+------------------+------------------+---------------+-----------------+-------------------+--------------+----------------+------------------+-----------+-------------+-------------+--------------+-------------+-------------+-------------------+-----------+------------+----------+-------------+-----------+-------------------+----------------+---------+-----------+------------+--------------+------------------+--------------+--------------+--------------+--------------+---------------+---------------+---------------+---------------+---------------+------------+----------------+-----------+---------------------+-----------+----------------+--------------+-------------+------------+---------------+---------+--------------+---------+-----------+--------------+-------------+-------------+-------------+---------------+-----------+-------------+------------+-------+---------------------------+------------------------------------+--------------------------------+----------+---------------+---------------------+-----------------------+-----------------------+-------------------+-------------------+\n",
      "\n"
     ]
    }
   ],
   "source": [
    "food.limit(5).show(vertical=False, truncate=True)"
   ]
  },
  {
   "cell_type": "markdown",
   "metadata": {},
   "source": [
    "### Step 5. What is the number of observations in the dataset?"
   ]
  },
  {
   "cell_type": "code",
   "execution_count": 5,
   "metadata": {
    "collapsed": false
   },
   "outputs": [
    {
     "name": "stderr",
     "output_type": "stream",
     "text": [
      "                                                                                \r"
     ]
    },
    {
     "data": {
      "text/plain": [
       "356027"
      ]
     },
     "execution_count": 5,
     "metadata": {},
     "output_type": "execute_result"
    }
   ],
   "source": [
    "food.count()"
   ]
  },
  {
   "cell_type": "markdown",
   "metadata": {},
   "source": [
    "### Step 6. What is the number of columns in the dataset?"
   ]
  },
  {
   "cell_type": "code",
   "execution_count": 6,
   "metadata": {
    "collapsed": false
   },
   "outputs": [
    {
     "data": {
      "text/plain": [
       "163"
      ]
     },
     "execution_count": 6,
     "metadata": {},
     "output_type": "execute_result"
    }
   ],
   "source": [
    "len(food.columns)"
   ]
  },
  {
   "cell_type": "markdown",
   "metadata": {},
   "source": [
    "### Step 7. Print the name of all the columns."
   ]
  },
  {
   "cell_type": "code",
   "execution_count": 7,
   "metadata": {
    "collapsed": false
   },
   "outputs": [
    {
     "data": {
      "text/plain": [
       "['code',\n",
       " 'url',\n",
       " 'creator',\n",
       " 'created_t',\n",
       " 'created_datetime',\n",
       " 'last_modified_t',\n",
       " 'last_modified_datetime',\n",
       " 'product_name',\n",
       " 'generic_name',\n",
       " 'quantity',\n",
       " 'packaging',\n",
       " 'packaging_tags',\n",
       " 'brands',\n",
       " 'brands_tags',\n",
       " 'categories',\n",
       " 'categories_tags',\n",
       " 'categories_en',\n",
       " 'origins',\n",
       " 'origins_tags',\n",
       " 'manufacturing_places',\n",
       " 'manufacturing_places_tags',\n",
       " 'labels',\n",
       " 'labels_tags',\n",
       " 'labels_en',\n",
       " 'emb_codes',\n",
       " 'emb_codes_tags',\n",
       " 'first_packaging_code_geo',\n",
       " 'cities',\n",
       " 'cities_tags',\n",
       " 'purchase_places',\n",
       " 'stores',\n",
       " 'countries',\n",
       " 'countries_tags',\n",
       " 'countries_en',\n",
       " 'ingredients_text',\n",
       " 'allergens',\n",
       " 'allergens_en',\n",
       " 'traces',\n",
       " 'traces_tags',\n",
       " 'traces_en',\n",
       " 'serving_size',\n",
       " 'no_nutriments',\n",
       " 'additives_n',\n",
       " 'additives',\n",
       " 'additives_tags',\n",
       " 'additives_en',\n",
       " 'ingredients_from_palm_oil_n',\n",
       " 'ingredients_from_palm_oil',\n",
       " 'ingredients_from_palm_oil_tags',\n",
       " 'ingredients_that_may_be_from_palm_oil_n',\n",
       " 'ingredients_that_may_be_from_palm_oil',\n",
       " 'ingredients_that_may_be_from_palm_oil_tags',\n",
       " 'nutrition_grade_uk',\n",
       " 'nutrition_grade_fr',\n",
       " 'pnns_groups_1',\n",
       " 'pnns_groups_2',\n",
       " 'states',\n",
       " 'states_tags',\n",
       " 'states_en',\n",
       " 'main_category',\n",
       " 'main_category_en',\n",
       " 'image_url',\n",
       " 'image_small_url',\n",
       " 'energy_100g',\n",
       " 'energy-from-fat_100g',\n",
       " 'fat_100g',\n",
       " 'saturated-fat_100g',\n",
       " '-butyric-acid_100g',\n",
       " '-caproic-acid_100g',\n",
       " '-caprylic-acid_100g',\n",
       " '-capric-acid_100g',\n",
       " '-lauric-acid_100g',\n",
       " '-myristic-acid_100g',\n",
       " '-palmitic-acid_100g',\n",
       " '-stearic-acid_100g',\n",
       " '-arachidic-acid_100g',\n",
       " '-behenic-acid_100g',\n",
       " '-lignoceric-acid_100g',\n",
       " '-cerotic-acid_100g',\n",
       " '-montanic-acid_100g',\n",
       " '-melissic-acid_100g',\n",
       " 'monounsaturated-fat_100g',\n",
       " 'polyunsaturated-fat_100g',\n",
       " 'omega-3-fat_100g',\n",
       " '-alpha-linolenic-acid_100g',\n",
       " '-eicosapentaenoic-acid_100g',\n",
       " '-docosahexaenoic-acid_100g',\n",
       " 'omega-6-fat_100g',\n",
       " '-linoleic-acid_100g',\n",
       " '-arachidonic-acid_100g',\n",
       " '-gamma-linolenic-acid_100g',\n",
       " '-dihomo-gamma-linolenic-acid_100g',\n",
       " 'omega-9-fat_100g',\n",
       " '-oleic-acid_100g',\n",
       " '-elaidic-acid_100g',\n",
       " '-gondoic-acid_100g',\n",
       " '-mead-acid_100g',\n",
       " '-erucic-acid_100g',\n",
       " '-nervonic-acid_100g',\n",
       " 'trans-fat_100g',\n",
       " 'cholesterol_100g',\n",
       " 'carbohydrates_100g',\n",
       " 'sugars_100g',\n",
       " '-sucrose_100g',\n",
       " '-glucose_100g',\n",
       " '-fructose_100g',\n",
       " '-lactose_100g',\n",
       " '-maltose_100g',\n",
       " '-maltodextrins_100g',\n",
       " 'starch_100g',\n",
       " 'polyols_100g',\n",
       " 'fiber_100g',\n",
       " 'proteins_100g',\n",
       " 'casein_100g',\n",
       " 'serum-proteins_100g',\n",
       " 'nucleotides_100g',\n",
       " 'salt_100g',\n",
       " 'sodium_100g',\n",
       " 'alcohol_100g',\n",
       " 'vitamin-a_100g',\n",
       " 'beta-carotene_100g',\n",
       " 'vitamin-d_100g',\n",
       " 'vitamin-e_100g',\n",
       " 'vitamin-k_100g',\n",
       " 'vitamin-c_100g',\n",
       " 'vitamin-b1_100g',\n",
       " 'vitamin-b2_100g',\n",
       " 'vitamin-pp_100g',\n",
       " 'vitamin-b6_100g',\n",
       " 'vitamin-b9_100g',\n",
       " 'folates_100g',\n",
       " 'vitamin-b12_100g',\n",
       " 'biotin_100g',\n",
       " 'pantothenic-acid_100g',\n",
       " 'silica_100g',\n",
       " 'bicarbonate_100g',\n",
       " 'potassium_100g',\n",
       " 'chloride_100g',\n",
       " 'calcium_100g',\n",
       " 'phosphorus_100g',\n",
       " 'iron_100g',\n",
       " 'magnesium_100g',\n",
       " 'zinc_100g',\n",
       " 'copper_100g',\n",
       " 'manganese_100g',\n",
       " 'fluoride_100g',\n",
       " 'selenium_100g',\n",
       " 'chromium_100g',\n",
       " 'molybdenum_100g',\n",
       " 'iodine_100g',\n",
       " 'caffeine_100g',\n",
       " 'taurine_100g',\n",
       " 'ph_100g',\n",
       " 'fruits-vegetables-nuts_100g',\n",
       " 'fruits-vegetables-nuts-estimate_100g',\n",
       " 'collagen-meat-protein-ratio_100g',\n",
       " 'cocoa_100g',\n",
       " 'chlorophyl_100g',\n",
       " 'carbon-footprint_100g',\n",
       " 'nutrition-score-fr_100g',\n",
       " 'nutrition-score-uk_100g',\n",
       " 'glycemic-index_100g',\n",
       " 'water-hardness_100g']"
      ]
     },
     "execution_count": 7,
     "metadata": {},
     "output_type": "execute_result"
    }
   ],
   "source": [
    "food.columns"
   ]
  },
  {
   "cell_type": "markdown",
   "metadata": {},
   "source": [
    "### Step 8. What is the name of 105th column?"
   ]
  },
  {
   "cell_type": "code",
   "execution_count": 8,
   "metadata": {},
   "outputs": [
    {
     "data": {
      "text/plain": [
       "'-glucose_100g'"
      ]
     },
     "execution_count": 8,
     "metadata": {},
     "output_type": "execute_result"
    }
   ],
   "source": [
    "food.columns[104]"
   ]
  },
  {
   "cell_type": "markdown",
   "metadata": {},
   "source": [
    "### Step 9. What is the type of the observations of the 105th column?"
   ]
  },
  {
   "cell_type": "code",
   "execution_count": 9,
   "metadata": {},
   "outputs": [
    {
     "data": {
      "text/plain": [
       "DoubleType()"
      ]
     },
     "execution_count": 9,
     "metadata": {},
     "output_type": "execute_result"
    }
   ],
   "source": [
    "food.schema[104].dataType"
   ]
  },
  {
   "cell_type": "markdown",
   "metadata": {},
   "source": [
    "### Step 10. How is the dataset indexed?"
   ]
  },
  {
   "cell_type": "code",
   "execution_count": 10,
   "metadata": {
    "collapsed": false
   },
   "outputs": [],
   "source": [
    "# Spark doesn't have an index"
   ]
  },
  {
   "cell_type": "markdown",
   "metadata": {},
   "source": [
    "### Step 11. What is the product name of the 19th observation?"
   ]
  },
  {
   "cell_type": "code",
   "execution_count": 11,
   "metadata": {},
   "outputs": [
    {
     "name": "stdout",
     "output_type": "stream",
     "text": [
      "+------+--------------------+--------------------+----------+--------------------+---------------+----------------------+------------------+------------+--------+---------+--------------+---------------+---------------+----------+---------------+-------------+-------+------------+--------------------+-------------------------+------+-----------+---------+---------+--------------+------------------------+------+-----------+---------------+------+---------+--------------+------------+----------------+---------+------------+------+-----------+---------+------------+-------------+-----------+---------+--------------+------------+---------------------------+-------------------------+------------------------------+---------------------------------------+-------------------------------------+------------------------------------------+------------------+------------------+-------------+-------------+--------------------+--------------------+--------------------+-------------+----------------+---------+---------------+-----------+--------------------+--------+------------------+------------------+------------------+-------------------+-----------------+-----------------+-------------------+-------------------+------------------+--------------------+------------------+---------------------+------------------+-------------------+-------------------+------------------------+------------------------+----------------+--------------------------+---------------------------+--------------------------+----------------+-------------------+----------------------+--------------------------+---------------------------------+----------------+----------------+------------------+------------------+---------------+-----------------+-------------------+--------------+----------------+------------------+-----------+-------------+-------------+--------------+-------------+-------------+-------------------+-----------+------------+----------+-------------+-----------+-------------------+----------------+---------+-----------+------------+--------------+------------------+--------------+--------------+--------------+--------------+---------------+---------------+---------------+---------------+---------------+------------+----------------+-----------+---------------------+-----------+----------------+--------------+-------------+------------+---------------+---------+--------------+---------+-----------+--------------+-------------+-------------+-------------+---------------+-----------+-------------+------------+-------+---------------------------+------------------------------------+--------------------------------+----------+---------------+---------------------+-----------------------+-----------------------+-------------------+-------------------+\n",
      "|  code|                 url|             creator| created_t|    created_datetime|last_modified_t|last_modified_datetime|      product_name|generic_name|quantity|packaging|packaging_tags|         brands|    brands_tags|categories|categories_tags|categories_en|origins|origins_tags|manufacturing_places|manufacturing_places_tags|labels|labels_tags|labels_en|emb_codes|emb_codes_tags|first_packaging_code_geo|cities|cities_tags|purchase_places|stores|countries|countries_tags|countries_en|ingredients_text|allergens|allergens_en|traces|traces_tags|traces_en|serving_size|no_nutriments|additives_n|additives|additives_tags|additives_en|ingredients_from_palm_oil_n|ingredients_from_palm_oil|ingredients_from_palm_oil_tags|ingredients_that_may_be_from_palm_oil_n|ingredients_that_may_be_from_palm_oil|ingredients_that_may_be_from_palm_oil_tags|nutrition_grade_uk|nutrition_grade_fr|pnns_groups_1|pnns_groups_2|              states|         states_tags|           states_en|main_category|main_category_en|image_url|image_small_url|energy_100g|energy-from-fat_100g|fat_100g|saturated-fat_100g|-butyric-acid_100g|-caproic-acid_100g|-caprylic-acid_100g|-capric-acid_100g|-lauric-acid_100g|-myristic-acid_100g|-palmitic-acid_100g|-stearic-acid_100g|-arachidic-acid_100g|-behenic-acid_100g|-lignoceric-acid_100g|-cerotic-acid_100g|-montanic-acid_100g|-melissic-acid_100g|monounsaturated-fat_100g|polyunsaturated-fat_100g|omega-3-fat_100g|-alpha-linolenic-acid_100g|-eicosapentaenoic-acid_100g|-docosahexaenoic-acid_100g|omega-6-fat_100g|-linoleic-acid_100g|-arachidonic-acid_100g|-gamma-linolenic-acid_100g|-dihomo-gamma-linolenic-acid_100g|omega-9-fat_100g|-oleic-acid_100g|-elaidic-acid_100g|-gondoic-acid_100g|-mead-acid_100g|-erucic-acid_100g|-nervonic-acid_100g|trans-fat_100g|cholesterol_100g|carbohydrates_100g|sugars_100g|-sucrose_100g|-glucose_100g|-fructose_100g|-lactose_100g|-maltose_100g|-maltodextrins_100g|starch_100g|polyols_100g|fiber_100g|proteins_100g|casein_100g|serum-proteins_100g|nucleotides_100g|salt_100g|sodium_100g|alcohol_100g|vitamin-a_100g|beta-carotene_100g|vitamin-d_100g|vitamin-e_100g|vitamin-k_100g|vitamin-c_100g|vitamin-b1_100g|vitamin-b2_100g|vitamin-pp_100g|vitamin-b6_100g|vitamin-b9_100g|folates_100g|vitamin-b12_100g|biotin_100g|pantothenic-acid_100g|silica_100g|bicarbonate_100g|potassium_100g|chloride_100g|calcium_100g|phosphorus_100g|iron_100g|magnesium_100g|zinc_100g|copper_100g|manganese_100g|fluoride_100g|selenium_100g|chromium_100g|molybdenum_100g|iodine_100g|caffeine_100g|taurine_100g|ph_100g|fruits-vegetables-nuts_100g|fruits-vegetables-nuts-estimate_100g|collagen-meat-protein-ratio_100g|cocoa_100g|chlorophyl_100g|carbon-footprint_100g|nutrition-score-fr_100g|nutrition-score-uk_100g|glycemic-index_100g|water-hardness_100g|\n",
      "+------+--------------------+--------------------+----------+--------------------+---------------+----------------------+------------------+------------+--------+---------+--------------+---------------+---------------+----------+---------------+-------------+-------+------------+--------------------+-------------------------+------+-----------+---------+---------+--------------+------------------------+------+-----------+---------------+------+---------+--------------+------------+----------------+---------+------------+------+-----------+---------+------------+-------------+-----------+---------+--------------+------------+---------------------------+-------------------------+------------------------------+---------------------------------------+-------------------------------------+------------------------------------------+------------------+------------------+-------------+-------------+--------------------+--------------------+--------------------+-------------+----------------+---------+---------------+-----------+--------------------+--------+------------------+------------------+------------------+-------------------+-----------------+-----------------+-------------------+-------------------+------------------+--------------------+------------------+---------------------+------------------+-------------------+-------------------+------------------------+------------------------+----------------+--------------------------+---------------------------+--------------------------+----------------+-------------------+----------------------+--------------------------+---------------------------------+----------------+----------------+------------------+------------------+---------------+-----------------+-------------------+--------------+----------------+------------------+-----------+-------------+-------------+--------------+-------------+-------------+-------------------+-----------+------------+----------+-------------+-----------+-------------------+----------------+---------+-----------+------------+--------------+------------------+--------------+--------------+--------------+--------------+---------------+---------------+---------------+---------------+---------------+------------+----------------+-----------+---------------------+-----------+----------------+--------------+-------------+------------+---------------+---------+--------------+---------+-----------+--------------+-------------+-------------+-------------+---------------+-----------+-------------+------------+-------+---------------------------+------------------------------------+--------------------------------+----------+---------------+---------------------+-----------------------+-----------------------+-------------------+-------------------+\n",
      "|3087.0|http://world-en.o...|openfoodfacts-con...|1474103866|2016-09-17T09:17:46Z|     1474103893|  2016-09-17T09:18:13Z|Farine de blé noir|        NULL|     1kg|     NULL|          NULL|Ferme t'y R'nao|ferme-t-y-r-nao|      NULL|           NULL|         NULL|   NULL|        NULL|                NULL|                     NULL|  NULL|       NULL|     NULL|     NULL|          NULL|                    NULL|  NULL|       NULL|           NULL|  NULL|    en:FR|     en:france|      France|            NULL|     NULL|        NULL|  NULL|       NULL|     NULL|        NULL|         NULL|       NULL|     NULL|          NULL|        NULL|                       NULL|                     NULL|                          NULL|                                   NULL|                                 NULL|                                      NULL|              NULL|              NULL|         NULL|         NULL|en:to-be-complete...|en:to-be-complete...|To be completed,N...|         NULL|            NULL|     NULL|           NULL|       NULL|                NULL|    NULL|              NULL|              NULL|              NULL|               NULL|             NULL|             NULL|               NULL|               NULL|              NULL|                NULL|              NULL|                 NULL|              NULL|               NULL|               NULL|                    NULL|                    NULL|            NULL|                      NULL|                       NULL|                      NULL|            NULL|               NULL|                  NULL|                      NULL|                             NULL|            NULL|            NULL|              NULL|              NULL|           NULL|             NULL|               NULL|          NULL|            NULL|              NULL|       NULL|         NULL|         NULL|          NULL|         NULL|         NULL|               NULL|       NULL|        NULL|      NULL|         NULL|       NULL|               NULL|            NULL|     NULL|       NULL|        NULL|          NULL|              NULL|          NULL|          NULL|          NULL|          NULL|           NULL|           NULL|           NULL|           NULL|           NULL|        NULL|            NULL|       NULL|                 NULL|       NULL|            NULL|          NULL|         NULL|        NULL|           NULL|     NULL|          NULL|     NULL|       NULL|          NULL|         NULL|         NULL|         NULL|           NULL|       NULL|         NULL|        NULL|   NULL|                       NULL|                                NULL|                            NULL|      NULL|           NULL|                 NULL|                   NULL|                   NULL|               NULL|               NULL|\n",
      "+------+--------------------+--------------------+----------+--------------------+---------------+----------------------+------------------+------------+--------+---------+--------------+---------------+---------------+----------+---------------+-------------+-------+------------+--------------------+-------------------------+------+-----------+---------+---------+--------------+------------------------+------+-----------+---------------+------+---------+--------------+------------+----------------+---------+------------+------+-----------+---------+------------+-------------+-----------+---------+--------------+------------+---------------------------+-------------------------+------------------------------+---------------------------------------+-------------------------------------+------------------------------------------+------------------+------------------+-------------+-------------+--------------------+--------------------+--------------------+-------------+----------------+---------+---------------+-----------+--------------------+--------+------------------+------------------+------------------+-------------------+-----------------+-----------------+-------------------+-------------------+------------------+--------------------+------------------+---------------------+------------------+-------------------+-------------------+------------------------+------------------------+----------------+--------------------------+---------------------------+--------------------------+----------------+-------------------+----------------------+--------------------------+---------------------------------+----------------+----------------+------------------+------------------+---------------+-----------------+-------------------+--------------+----------------+------------------+-----------+-------------+-------------+--------------+-------------+-------------+-------------------+-----------+------------+----------+-------------+-----------+-------------------+----------------+---------+-----------+------------+--------------+------------------+--------------+--------------+--------------+--------------+---------------+---------------+---------------+---------------+---------------+------------+----------------+-----------+---------------------+-----------+----------------+--------------+-------------+------------+---------------+---------+--------------+---------+-----------+--------------+-------------+-------------+-------------+---------------+-----------+-------------+------------+-------+---------------------------+------------------------------------+--------------------------------+----------+---------------+---------------------+-----------------------+-----------------------+-------------------+-------------------+\n",
      "only showing top 1 row\n",
      "\n"
     ]
    }
   ],
   "source": [
    "food.show(1)"
   ]
  },
  {
   "cell_type": "code",
   "execution_count": null,
   "metadata": {},
   "outputs": [
    {
     "name": "stderr",
     "output_type": "stream",
     "text": [
      "25/03/16 09:22:40 WARN GarbageCollectionMetrics: To enable non-built-in garbage collector(s) List(G1 Concurrent GC), users should configure it(them) to spark.eventLog.gcMetrics.youngGenerationGarbageCollectors or spark.eventLog.gcMetrics.oldGenerationGarbageCollectors\n",
      "[Stage 9:>                                                        (0 + 15) / 15]\r"
     ]
    },
    {
     "name": "stdout",
     "output_type": "stream",
     "text": [
      "+--------------------------------+\n",
      "|product_name                    |\n",
      "+--------------------------------+\n",
      "|Lotus Organic Brown Jasmine Rice|\n",
      "+--------------------------------+\n",
      "\n"
     ]
    },
    {
     "name": "stderr",
     "output_type": "stream",
     "text": [
      "                                                                                \r"
     ]
    }
   ],
   "source": [
    "(food.select(\"product_name\").where(F.monotonically_increasing_id() == 18)).show(\n",
    "    truncate=False\n",
    ")"
   ]
  }
 ],
 "metadata": {
  "anaconda-cloud": {},
  "kernelspec": {
   "display_name": ".venv",
   "language": "python",
   "name": "python3"
  },
  "language_info": {
   "codemirror_mode": {
    "name": "ipython",
    "version": 3
   },
   "file_extension": ".py",
   "mimetype": "text/x-python",
   "name": "python",
   "nbconvert_exporter": "python",
   "pygments_lexer": "ipython3",
   "version": "3.13.1"
  }
 },
 "nbformat": 4,
 "nbformat_minor": 1
}
